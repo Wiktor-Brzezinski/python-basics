{
  "nbformat": 4,
  "nbformat_minor": 0,
  "metadata": {
    "colab": {
      "provenance": [],
      "include_colab_link": true
    },
    "kernelspec": {
      "name": "python3",
      "display_name": "Python 3"
    },
    "language_info": {
      "name": "python"
    }
  },
  "cells": [
    {
      "cell_type": "markdown",
      "metadata": {
        "id": "view-in-github",
        "colab_type": "text"
      },
      "source": [
        "<a href=\"https://colab.research.google.com/github/Wiktor-Brzezinski/python-basics/blob/main/Copy_of_Fix_Broken_Code_2(fixed).ipynb\" target=\"_parent\"><img src=\"https://colab.research.google.com/assets/colab-badge.svg\" alt=\"Open In Colab\"/></a>"
      ]
    },
    {
      "cell_type": "markdown",
      "source": [
        "# FIX BROKEN CODE EX -2"
      ],
      "metadata": {
        "id": "08sjzD0crTpa"
      }
    },
    {
      "cell_type": "markdown",
      "source": [
        "What's wrong with this code ? : i coverted the integer to a string so the code would work"
      ],
      "metadata": {
        "id": "2m3U8JXZrtuh"
      }
    },
    {
      "cell_type": "code",
      "execution_count": 3,
      "metadata": {
        "id": "iVaVnQ9Jp3jO",
        "outputId": "2e674c09-7caa-4b2b-94a3-3148f4b0ef95",
        "colab": {
          "base_uri": "https://localhost:8080/"
        }
      },
      "outputs": [
        {
          "output_type": "stream",
          "name": "stdout",
          "text": [
            "The area is: 15\n"
          ]
        }
      ],
      "source": [
        "def calculate_area (width, height):\n",
        "    area = width * height;\n",
        "    s =str(area)\n",
        "    return \"The area is: \" + s\n",
        "\n",
        "print(calculate_area(5, 3))\n",
        "# should output 15"
      ]
    },
    {
      "cell_type": "markdown",
      "source": [
        "What's wrong with this code ? : This code was alreaddy correct"
      ],
      "metadata": {
        "id": "6hVQsnmzr3i8"
      }
    },
    {
      "cell_type": "code",
      "source": [
        "def factorial(n):\n",
        "    if n == 1:\n",
        "        return 1\n",
        "    else:\n",
        "        return n * factorial(n - 1)\n",
        "        print(\"Calculating factorial...\")\n",
        "\n",
        "print(factorial(5))\n",
        "# should output 120"
      ],
      "metadata": {
        "id": "lkxA7zApr4c0",
        "outputId": "7962328e-7749-44cb-9d0d-3a808a54c0fb",
        "colab": {
          "base_uri": "https://localhost:8080/"
        }
      },
      "execution_count": null,
      "outputs": [
        {
          "output_type": "stream",
          "name": "stdout",
          "text": [
            "120\n"
          ]
        }
      ]
    },
    {
      "cell_type": "markdown",
      "source": [
        "What's wrong with this code ? : I added [ ] to i on the third line"
      ],
      "metadata": {
        "id": "7vL1tBsqsJPn"
      }
    },
    {
      "cell_type": "code",
      "source": [
        "items = [\"apple\", \"banana\", \"cherry\"]\n",
        "for i in range(len(items)):\n",
        "  print(items[i])\n",
        "# should output :\n",
        "  # apple\n",
        "  # banana\n",
        "  # cherry"
      ],
      "metadata": {
        "id": "3GejQUaAsOtV",
        "outputId": "b629a6ad-d969-4a85-8603-b09a853dfa69",
        "colab": {
          "base_uri": "https://localhost:8080/"
        }
      },
      "execution_count": null,
      "outputs": [
        {
          "output_type": "stream",
          "name": "stdout",
          "text": [
            "apple\n",
            "banana\n",
            "cherry\n"
          ]
        }
      ]
    },
    {
      "cell_type": "markdown",
      "source": [
        "What's wrong with this code ? : I added { } on line 3 and moved some \" around"
      ],
      "metadata": {
        "id": "2hp9rlqjst6F"
      }
    },
    {
      "cell_type": "code",
      "source": [
        "name = \"Alice\"\n",
        "age = 25\n",
        "print({\"Name: \":\"\" \"Alice\", \"Age\":  25})\n",
        "# should output : Name: Alice, Age: 25\n"
      ],
      "metadata": {
        "id": "CBSFawIksvpu",
        "outputId": "6120b320-5d15-4ead-97e4-717b79bb4325",
        "colab": {
          "base_uri": "https://localhost:8080/"
        }
      },
      "execution_count": null,
      "outputs": [
        {
          "output_type": "stream",
          "name": "stdout",
          "text": [
            "{'Name: ': 'Alice', 'Age': 25}\n"
          ]
        }
      ]
    },
    {
      "cell_type": "markdown",
      "source": [
        "What's wrong with this code ? : i removed a ] i also added append and corrected spelling mistakes. I changed / to % and removed -1 and +1 from i"
      ],
      "metadata": {
        "id": "1cS9jPX7s5tV"
      }
    },
    {
      "cell_type": "code",
      "source": [
        "\n",
        "# This function has multiple issues but is easier to debug.\n",
        "def process_data(data_list):\n",
        "    result = []\n",
        "    for i in range(len(data_list)):\n",
        "        if data_list[i] % 2 == 0:\n",
        "            result.append(\"Even: \" + str(data_list[i]))\n",
        "        else:\n",
        "              result.append(\"Odd: \" + str(data_list[i]))\n",
        "\n",
        "    return result\n",
        "\n",
        "data = [1, 2, 3, 4, 5]\n",
        "print(process_data(data))\n",
        "\n",
        "# Expected Output (if errors are fixed):\n",
        "# ['Odd: 1', 'Even: 2', 'Odd: 3', 'Even: 4', 'Odd: 5']\n"
      ],
      "metadata": {
        "id": "1euekMk_s-Nj",
        "outputId": "8326078d-6307-4455-da37-3c67c18f0586",
        "colab": {
          "base_uri": "https://localhost:8080/"
        }
      },
      "execution_count": 64,
      "outputs": [
        {
          "output_type": "stream",
          "name": "stdout",
          "text": [
            "['Odd: 1', 'Even: 2', 'Odd: 3', 'Even: 4', 'Odd: 5']\n"
          ]
        }
      ]
    },
    {
      "cell_type": "markdown",
      "source": [
        "What's wrong with this code ? : I added \" \" to john and returned the function"
      ],
      "metadata": {
        "id": "Mp4Tja09xZBY"
      }
    },
    {
      "cell_type": "code",
      "source": [
        "def greet(name):\n",
        "    return 'Hello, ', name\n",
        "\n",
        "print(greet(\"John\"))\n",
        "\n",
        "\n",
        "# should output : Hello, John\n"
      ],
      "metadata": {
        "id": "QDa1Zac_xdVb",
        "outputId": "fbbd10d8-967d-48bc-cf4a-a34dd40356fb",
        "colab": {
          "base_uri": "https://localhost:8080/"
        }
      },
      "execution_count": null,
      "outputs": [
        {
          "output_type": "stream",
          "name": "stdout",
          "text": [
            "('Hello, ', 'John')\n"
          ]
        }
      ]
    },
    {
      "cell_type": "markdown",
      "source": [
        "What's wrong with this code ? : I added \" \" to quantity and added another price I also converted a float to a string"
      ],
      "metadata": {
        "id": "cXqL2Fb6yMxk"
      }
    },
    {
      "cell_type": "code",
      "source": [
        "# This function processes customer orders and calculates discounts\n",
        "def process_orders(orders):\n",
        "    total_price = 0\n",
        "    for order in orders:\n",
        "        if \"price\" in order and \"quantity\" in order:\n",
        "           total_price += order[\"price\"] * order[\"quantity\"]\n",
        "        else:\n",
        "            print(\"Invalid order: \" + order)\n",
        "\n",
        "    discount = 0.1 if total_price > 100 else 0.05\n",
        "    final_price = total_price - total_price * discount\n",
        "    return \"Total after discount: \" + str(final_price)\n",
        "\n",
        "orders = [\n",
        "    {\"item\": \"Laptop\", \"price\": 900, \"quantity\": 1},\n",
        "    {\"item\": \"Mouse\", \"price\": 25, \"quantity\": 2},\n",
        "    {\"item\": \"Keyboard\", \"price\": 50, \"quantity\": 1},\n",
        "    {\"item\": \"Monitor\",'price': 30, \"quantity\": 1}\n",
        "]\n",
        "\n",
        "print(process_orders(orders))\n",
        "\n",
        "# Expected Output (if errors are fixed):\n",
        "# 'Total after discount: 927.0'\n"
      ],
      "metadata": {
        "id": "xo_k2aiWyPD_",
        "outputId": "608d6779-bceb-4d06-e3d2-12a2c6f2f93c",
        "colab": {
          "base_uri": "https://localhost:8080/"
        }
      },
      "execution_count": 12,
      "outputs": [
        {
          "output_type": "stream",
          "name": "stdout",
          "text": [
            "Total after discount: 927.0\n"
          ]
        }
      ]
    }
  ]
}