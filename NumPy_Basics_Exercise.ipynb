{
  "nbformat": 4,
  "nbformat_minor": 0,
  "metadata": {
    "colab": {
      "provenance": [],
      "include_colab_link": true
    },
    "kernelspec": {
      "name": "python3",
      "display_name": "Python 3"
    },
    "language_info": {
      "name": "python"
    }
  },
  "cells": [
    {
      "cell_type": "markdown",
      "metadata": {
        "id": "view-in-github",
        "colab_type": "text"
      },
      "source": [
        "<a href=\"https://colab.research.google.com/github/Wiktor-Brzezinski/python-basics/blob/main/NumPy_Basics_Exercise.ipynb\" target=\"_parent\"><img src=\"https://colab.research.google.com/assets/colab-badge.svg\" alt=\"Open In Colab\"/></a>"
      ]
    },
    {
      "cell_type": "markdown",
      "metadata": {
        "id": "VE2cHlzIuLVT"
      },
      "source": [
        "# 🧮 NumPy Basics - Practice Exercises\n",
        "\n",
        "**Instructions:** Read each task carefully and complete the code blocks using NumPy.\n",
        "Remember to start with:\n",
        "```python\n",
        "import numpy as np\n",
        "```"
      ]
    },
    {
      "cell_type": "markdown",
      "metadata": {
        "id": "8zEt8XiyuLVU"
      },
      "source": [
        "## 🛍️ Task 1: Store Footfall Tracker\n",
        "Create a NumPy array of customer counts over 7 days:\n",
        "`[95, 102, 110, 130, 125, 140, 150]`\n",
        "- Find the average number of customers per day.\n",
        "- Find the highest and lowest footfall."
      ]
    },
    {
      "cell_type": "code",
      "metadata": {
        "id": "SoroU7tnuLVV",
        "colab": {
          "base_uri": "https://localhost:8080/"
        },
        "outputId": "2a8e506a-0b74-45ab-a7cf-a337afad5005"
      },
      "source": [
        "import numpy as np\n",
        "\n",
        "\n",
        "footfall_1 = np.array([95, 102, 110, 130, 125, 140, 150])\n",
        "\n",
        "print(\"average number of customers per day = \", np.mean(footfall_1))\n",
        "\n",
        "print(\"highest number of customers in a day = \", np.max(footfall_1))\n",
        "\n",
        "print(\"lowest number of customers in a day = \", np.min(footfall_1))"
      ],
      "execution_count": 7,
      "outputs": [
        {
          "output_type": "stream",
          "name": "stdout",
          "text": [
            "average number of customers per day =  121.71428571428571\n",
            "highest number of customers in a day =  150\n",
            "lowest number of customers in a day =  95\n"
          ]
        }
      ]
    },
    {
      "cell_type": "markdown",
      "metadata": {
        "id": "xat9F7uhuLVV"
      },
      "source": [
        "## 📦 Task 2: Inventory Restock Check\n",
        "You have items in stock: `[15, 40, 10, 5, 25]`\n",
        "(sugar, rice, salt, oil, wheat)\n",
        "- Find which items have less than 20 units.\n",
        "- Print how many total items need restocking."
      ]
    },
    {
      "cell_type": "code",
      "metadata": {
        "id": "cfsa1H5GuLVW",
        "colab": {
          "base_uri": "https://localhost:8080/"
        },
        "outputId": "77b83ff0-7425-4e48-95f7-b23b54505942"
      },
      "source": [
        "shop_stock = np.array([15, 40, 10, 5, 25])\n",
        "\n",
        "remaining = shop_stock\n",
        "\n",
        "print(\"remaining stock =\", remaining)\n",
        "print(\"items that need restock\", remaining < 20)\n",
        "print(\"items that are sufficient\", remaining > 20)\n",
        "\n",
        "\n",
        "\n"
      ],
      "execution_count": 43,
      "outputs": [
        {
          "output_type": "stream",
          "name": "stdout",
          "text": [
            "remaining stock = [15 40 10  5 25]\n",
            "items that need restock [ True False  True  True False]\n",
            "items that are sufficient [False  True False False  True]\n"
          ]
        }
      ]
    },
    {
      "cell_type": "markdown",
      "metadata": {
        "id": "P05EFRS3uLVW"
      },
      "source": [
        "## 📊 Task 3: Weekly Sales Growth\n",
        "This week’s sales (₹): `[1200, 1350, 1600, 1500, 1450, 1550, 1700]`\n",
        "Last week’s sales: `[1000, 1250, 1400, 1300, 1250, 1450, 1600]`\n",
        "- Calculate the daily growth in sales.\n",
        "- Find the average growth.\n",
        "- Print on which days the sales decreased."
      ]
    },
    {
      "cell_type": "code",
      "metadata": {
        "id": "cbUUvVNAuLVW",
        "colab": {
          "base_uri": "https://localhost:8080/"
        },
        "outputId": "4cf0221c-77b8-49d7-bf66-d817560df2ad"
      },
      "source": [
        "this_weekly_sales = np.array([1200, 1350, 1600, 1500, 1450, 1550, 1700])\n",
        "last_weekly_sales = np.array([1000, 1250, 1400, 1300, 1250, 1450, 1600])\n",
        "\n",
        "daily_growth = this_weekly_sales - last_weekly_sales\n",
        "print(\"Daily Growth:\", daily_growth)\n",
        "print(\"avergae growth:\", np.mean(daily_growth))\n",
        "sales_increase = this_weekly_sales >last_weekly_sales\n",
        "\n",
        "print(\"increase?\", sales_increase)\n"
      ],
      "execution_count": 51,
      "outputs": [
        {
          "output_type": "stream",
          "name": "stdout",
          "text": [
            "Daily Growth: [200 100 200 200 200 100 100]\n",
            "avergae growth: 157.14285714285714\n",
            "increase? [ True  True  True  True  True  True  True]\n"
          ]
        }
      ]
    },
    {
      "cell_type": "markdown",
      "metadata": {
        "id": "WNgW4CozuLVW"
      },
      "source": [
        "## 💸 Task 4: Discounted Prices\n",
        "Prices before discount: `[120, 250, 75, 300, 180]`\n",
        "Apply a 10% discount and print the final prices."
      ]
    },
    {
      "cell_type": "code",
      "metadata": {
        "id": "dpDcBztBuLVW",
        "colab": {
          "base_uri": "https://localhost:8080/"
        },
        "outputId": "ec7da4a9-9b03-49ba-c81e-c227e41c97d2"
      },
      "source": [
        "pre_discount = np.array([120, 250 , 75, 300, 180])\n",
        "\n",
        "discount_price = pre_discount * 0.90\n",
        "\n",
        "print(\"10% discount applied =\", discount_price)"
      ],
      "execution_count": 55,
      "outputs": [
        {
          "output_type": "stream",
          "name": "stdout",
          "text": [
            "10% discount applied = [108.  225.   67.5 270.  162. ]\n"
          ]
        }
      ]
    },
    {
      "cell_type": "markdown",
      "metadata": {
        "id": "GZCpDsNjuLVW"
      },
      "source": [
        "## 🧼 Task 5: Hygiene Product Sales\n",
        "Units sold: `[30, 50, 45, 10, 60]`\n",
        "- Find total items sold.\n",
        "- What percentage of total sales came from the item that sold 60 units?"
      ]
    },
    {
      "cell_type": "code",
      "metadata": {
        "id": "k4qrHIRLuLVX",
        "colab": {
          "base_uri": "https://localhost:8080/"
        },
        "outputId": "4457b576-4c10-4439-b58e-bf1dd8e3009b"
      },
      "source": [
        "total_sold = np.array([30, 50, 45, 10, 60])\n",
        "\n",
        "total_sold1 = np.sum(total_sold)\n",
        "\n",
        "print(total_sold1)\n",
        "\n",
        "percent_total = 60/195*100\n",
        "print(\"total percent of sales from 60 units sold =\", percent_total)"
      ],
      "execution_count": 62,
      "outputs": [
        {
          "output_type": "stream",
          "name": "stdout",
          "text": [
            "195\n",
            "total percent of sales from 60 units sold = 30.76923076923077\n"
          ]
        }
      ]
    },
    {
      "cell_type": "markdown",
      "metadata": {
        "id": "u8CHFoqOuLVX"
      },
      "source": [
        "## 🌡️ Bonus Task: Temperature Conversion\n",
        "Temperatures in Celsius: `[25, 30, 28, 27, 32]`\n",
        "- Convert them to Fahrenheit using:\n",
        "  \n",
        "  \\( F = C \\times \\frac{9}{5} + 32 \\)"
      ]
    },
    {
      "cell_type": "code",
      "metadata": {
        "id": "pGoAXvaTuLVX"
      },
      "source": [
        "# Your code here"
      ],
      "execution_count": null,
      "outputs": []
    }
  ]
}