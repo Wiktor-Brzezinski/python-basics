{
  "nbformat": 4,
  "nbformat_minor": 0,
  "metadata": {
    "colab": {
      "provenance": [],
      "include_colab_link": true
    },
    "kernelspec": {
      "name": "python3",
      "display_name": "Python 3"
    },
    "language_info": {
      "name": "python"
    }
  },
  "cells": [
    {
      "cell_type": "markdown",
      "metadata": {
        "id": "view-in-github",
        "colab_type": "text"
      },
      "source": [
        "<a href=\"https://colab.research.google.com/github/Wiktor-Brzezinski/python-basics/blob/main/Copy_of_python_ex2.ipynb\" target=\"_parent\"><img src=\"https://colab.research.google.com/assets/colab-badge.svg\" alt=\"Open In Colab\"/></a>"
      ]
    },
    {
      "cell_type": "markdown",
      "source": [
        "# Python Exercises 2"
      ],
      "metadata": {
        "id": "reaLcOQzvWym"
      }
    },
    {
      "cell_type": "markdown",
      "source": [
        "## Exercise 1: Defining Functions\n",
        "### Task:\n",
        "Write a function called `greet` that takes a name as a parameter and returns \"Hello, Yourname!\"."
      ],
      "metadata": {
        "id": "Yeg9DKvyva6l"
      }
    },
    {
      "cell_type": "code",
      "source": [
        "def greet(name):\n",
        "    return \"hello\", {name}\n",
        "hi = greet(\"Alice\")\n",
        "print(hi)\n"
      ],
      "metadata": {
        "colab": {
          "base_uri": "https://localhost:8080/"
        },
        "id": "qdQwJNo8velp",
        "outputId": "79dbb5e6-a068-413e-f7db-889c5188f5f5"
      },
      "execution_count": null,
      "outputs": [
        {
          "output_type": "stream",
          "name": "stdout",
          "text": [
            "('hello', {'Alice'})\n"
          ]
        }
      ]
    },
    {
      "cell_type": "markdown",
      "source": [
        "## Exercise 2: Function with Default Parameter\n",
        "### Task:\n",
        "Write a function `power` that takes two arguments: a base and an exponent (default to 2). It should return the base raised to the exponent."
      ],
      "metadata": {
        "id": "4nlbtlaIv0qt"
      }
    },
    {
      "cell_type": "code",
      "source": [
        "def power(base, exponent):\n",
        "    return base ** exponent\n",
        "power(2,4)\n",
        "\n"
      ],
      "metadata": {
        "colab": {
          "base_uri": "https://localhost:8080/"
        },
        "id": "b3RviQzDv46C",
        "outputId": "5695e96c-278a-4cd2-f35c-189b329d1d40"
      },
      "execution_count": null,
      "outputs": [
        {
          "output_type": "execute_result",
          "data": {
            "text/plain": [
              "16"
            ]
          },
          "metadata": {},
          "execution_count": 40
        }
      ]
    },
    {
      "cell_type": "markdown",
      "source": [
        "## Exercise 3: List Operations\n",
        "### Task:\n",
        "Create a list of five numbers. Write a loop to print each number in the list."
      ],
      "metadata": {
        "id": "yyXAjKNnwh1p"
      }
    },
    {
      "cell_type": "code",
      "source": [
        "\n",
        "numbers = [1,2,3,4,5]\n",
        "\n",
        "for number in numbers:\n",
        "    print(number)\n"
      ],
      "metadata": {
        "colab": {
          "base_uri": "https://localhost:8080/"
        },
        "id": "swwS3Y4Dwiol",
        "outputId": "90f046fd-c05d-422c-849a-2c60f224943f"
      },
      "execution_count": null,
      "outputs": [
        {
          "output_type": "stream",
          "name": "stdout",
          "text": [
            "1\n",
            "2\n",
            "3\n",
            "4\n",
            "5\n"
          ]
        }
      ]
    },
    {
      "cell_type": "markdown",
      "source": [
        "\n",
        "## Exercise 4: List Modification\n",
        "### Task:\n",
        "Write a function that takes a list and returns a new list with each element squared."
      ],
      "metadata": {
        "id": "kwrHQtDwwmfZ"
      }
    },
    {
      "cell_type": "code",
      "source": [
        "def square_elements(input_list):\n",
        "    return [x ** 2 for x in input_list]\n",
        "\n",
        "original_list = [1, 2, 3, 4, 5]\n",
        "squared_list = square_elements(original_list)\n",
        "print(squared_list)\n"
      ],
      "metadata": {
        "colab": {
          "base_uri": "https://localhost:8080/"
        },
        "id": "q8IvqtaFwoeT",
        "outputId": "61afaa40-fe98-4e23-8f56-01bf7523db97"
      },
      "execution_count": null,
      "outputs": [
        {
          "output_type": "stream",
          "name": "stdout",
          "text": [
            "[1, 4, 9, 16, 25]\n"
          ]
        }
      ]
    },
    {
      "cell_type": "markdown",
      "source": [
        "## Exercise 5: Looping through a Dictionary\n",
        "### Task:\n",
        "Create a dictionary with three key-value pairs representing a student's name, age, and grade. Write a loop to print each key and its corresponding value."
      ],
      "metadata": {
        "id": "DnNNIiQ2w6Jk"
      }
    },
    {
      "cell_type": "code",
      "source": [
        "student1 = {\"name\": \"Alice\", \"age\": 20, \"grade\": \"A\"}\n",
        "print (student1)"
      ],
      "metadata": {
        "colab": {
          "base_uri": "https://localhost:8080/"
        },
        "id": "jsEVuyrLw_QV",
        "outputId": "9531f2a4-4ce1-4911-89a3-ac16b9798fb4"
      },
      "execution_count": null,
      "outputs": [
        {
          "output_type": "stream",
          "name": "stdout",
          "text": [
            "{'name': 'Alice', 'age': 20, 'grade': 'A'}\n"
          ]
        }
      ]
    },
    {
      "cell_type": "markdown",
      "source": [
        "## Exercise 6: Nested Loops\n",
        "### Task:\n",
        "Write a function that generates a multiplication table for numbers 1 through 5 using nested loops."
      ],
      "metadata": {
        "id": "t6d8Xd-exHIn"
      }
    },
    {
      "cell_type": "code",
      "source": [
        "def generate_multiplication_table():\n",
        "    table = []\n",
        "    for i in range(1, 6):\n",
        "        row = []\n",
        "        for j in range(1, 6):\n",
        "            row.append(i * j)\n",
        "        table.append(row)\n",
        "    return table\n",
        "\n",
        "def print_multiplication_table(table):\n",
        "    for row in table:\n",
        "        print(\"\\t\".join(map(str, row)))\n",
        "\n",
        "multiplication_table = generate_multiplication_table()\n",
        "print_multiplication_table(multiplication_table)"
      ],
      "metadata": {
        "colab": {
          "base_uri": "https://localhost:8080/"
        },
        "id": "ZSWqaprpxQHx",
        "outputId": "07e18438-5483-4d03-b2dc-c30c447b98bc"
      },
      "execution_count": null,
      "outputs": [
        {
          "output_type": "stream",
          "name": "stdout",
          "text": [
            "1 x 1 = 1\n",
            "1 x 2 = 2\n",
            "1 x 3 = 3\n",
            "1 x 4 = 4\n",
            "1 x 5 = 5\n",
            "\n",
            "2 x 1 = 2\n",
            "2 x 2 = 4\n",
            "2 x 3 = 6\n",
            "2 x 4 = 8\n",
            "2 x 5 = 10\n",
            "\n",
            "3 x 1 = 3\n",
            "3 x 2 = 6\n",
            "3 x 3 = 9\n",
            "3 x 4 = 12\n",
            "3 x 5 = 15\n",
            "\n",
            "4 x 1 = 4\n",
            "4 x 2 = 8\n",
            "4 x 3 = 12\n",
            "4 x 4 = 16\n",
            "4 x 5 = 20\n",
            "\n",
            "5 x 1 = 5\n",
            "5 x 2 = 10\n",
            "5 x 3 = 15\n",
            "5 x 4 = 20\n",
            "5 x 5 = 25\n",
            "\n"
          ]
        }
      ]
    },
    {
      "cell_type": "markdown",
      "source": [
        "## Exercise 7: Filtering a List\n",
        "### Task:\n",
        "Write a function that takes a list of numbers and returns a new list containing only even numbers."
      ],
      "metadata": {
        "id": "3Le93BTpxTK0"
      }
    },
    {
      "cell_type": "code",
      "source": [
        "def even_numbers1(numbers):\n",
        "\n",
        "  return [num for num in numbers if num % 2 == 0]\n",
        "\n",
        "numbers = [1, 2, 3, 4, 5, 6, 7, 8, 9, 10, 11, 12, 13, 14, 15]\n",
        "even_numbers = even_numbers1(numbers)\n",
        "print(even_numbers)"
      ],
      "metadata": {
        "colab": {
          "base_uri": "https://localhost:8080/"
        },
        "id": "BhzyOd_CxW-A",
        "outputId": "d053a1e7-1278-4ac1-c36c-154e491ed25e"
      },
      "execution_count": null,
      "outputs": [
        {
          "output_type": "stream",
          "name": "stdout",
          "text": [
            "[2, 4, 6, 8, 10, 12, 14]\n"
          ]
        }
      ]
    }
  ]
}