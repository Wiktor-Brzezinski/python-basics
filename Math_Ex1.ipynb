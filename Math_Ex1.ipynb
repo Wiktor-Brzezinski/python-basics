{
  "nbformat": 4,
  "nbformat_minor": 0,
  "metadata": {
    "colab": {
      "provenance": [],
      "include_colab_link": true
    },
    "kernelspec": {
      "name": "python3",
      "display_name": "Python 3"
    },
    "language_info": {
      "name": "python"
    }
  },
  "cells": [
    {
      "cell_type": "markdown",
      "metadata": {
        "id": "view-in-github",
        "colab_type": "text"
      },
      "source": [
        "<a href=\"https://colab.research.google.com/github/Wiktor-Brzezinski/python-basics/blob/main/Math_Ex1.ipynb\" target=\"_parent\"><img src=\"https://colab.research.google.com/assets/colab-badge.svg\" alt=\"Open In Colab\"/></a>"
      ]
    },
    {
      "cell_type": "markdown",
      "source": [
        "# MATH PYTHON EXERCISE 1"
      ],
      "metadata": {
        "id": "DyT267uWSfzo"
      }
    },
    {
      "cell_type": "markdown",
      "source": [
        "1. Import math correctly"
      ],
      "metadata": {
        "id": "05uxMSoJSkZ4"
      }
    },
    {
      "cell_type": "code",
      "execution_count": null,
      "metadata": {
        "id": "mR-BCYnKScOn"
      },
      "outputs": [],
      "source": [
        "import math"
      ]
    },
    {
      "cell_type": "markdown",
      "source": [
        "2. Convert 90 degrees to radians and print it"
      ],
      "metadata": {
        "id": "GkvsHhJYS3V5"
      }
    },
    {
      "cell_type": "code",
      "source": [
        "angle = 90\n",
        "radians = math.radians(angle)\n",
        "print(radians)"
      ],
      "metadata": {
        "id": "VbxKmhXBS7fW",
        "outputId": "3e288ae6-536a-46a9-95c3-558da966b89c",
        "colab": {
          "base_uri": "https://localhost:8080/"
        }
      },
      "execution_count": null,
      "outputs": [
        {
          "output_type": "stream",
          "name": "stdout",
          "text": [
            "1.5707963267948966\n"
          ]
        }
      ]
    },
    {
      "cell_type": "markdown",
      "source": [
        "3. Calculate sin 70, cos 70, tan 70"
      ],
      "metadata": {
        "id": "E_K68TvTS73G"
      }
    },
    {
      "cell_type": "code",
      "source": [
        "angle = 70\n",
        "radians = math.radians(angle)\n",
        "print(radians)\n",
        "\n",
        "print(\"sin = \", math.sin(radians))\n",
        "print(\"cos = \", math.cos(radians))\n",
        "print(\"tan = \", math.tan(radians))\n",
        "\n"
      ],
      "metadata": {
        "id": "RU02BKOlTC87",
        "outputId": "3e2ac50e-918b-4c4e-e300-8356d4dc4b10",
        "colab": {
          "base_uri": "https://localhost:8080/"
        }
      },
      "execution_count": null,
      "outputs": [
        {
          "output_type": "stream",
          "name": "stdout",
          "text": [
            "1.2217304763960306\n",
            "sin =  0.9396926207859083\n",
            "cos =  0.3420201433256688\n",
            "tan =  2.7474774194546216\n"
          ]
        }
      ]
    },
    {
      "cell_type": "markdown",
      "source": [
        "4. Calculate sin inverse (0.9396926207859083) cos inverse (0.342020143325668) and tan inverse (2.747477419454621)"
      ],
      "metadata": {
        "id": "ZschTX83TD2T"
      }
    },
    {
      "cell_type": "code",
      "source": [
        "print(\"sin inverse = \", math.asin(0.9396926207859083))\n",
        "print(\"cos inverse = \", math.acos(0.342020143325668))\n",
        "print(\"tan inverse = \", math.atan(2.747477419454621))\n",
        "\n",
        "print(\"sin degrees = \", math.degrees(1.2217304763960306))\n",
        "print(\"cos degrees = \", math.degrees(1.2217304763960306))\n",
        "print(\"tan degrees = \", math.degrees(1.2217304763960306))"
      ],
      "metadata": {
        "id": "fNm4gUBGTLb5",
        "outputId": "10efc704-bc10-4b4c-9ede-5baf9064f69a",
        "colab": {
          "base_uri": "https://localhost:8080/"
        }
      },
      "execution_count": null,
      "outputs": [
        {
          "output_type": "stream",
          "name": "stdout",
          "text": [
            "sin inverse =  1.2217304763960306\n",
            "cos inverse =  1.2217304763960315\n",
            "tan inverse =  1.2217304763960306\n",
            "sin degrees =  70.0\n",
            "cos degrees =  70.0\n",
            "tan degrees =  70.0\n"
          ]
        }
      ]
    },
    {
      "cell_type": "markdown",
      "source": [
        "5. Calculat the area of a circle with radius 7"
      ],
      "metadata": {
        "id": "4GI_0CvFTLyq"
      }
    },
    {
      "cell_type": "code",
      "source": [
        "math.pi *7**2"
      ],
      "metadata": {
        "id": "DJO4QSf3TQAI",
        "outputId": "c4328ae2-9f0a-4a7f-e355-819d67d80755",
        "colab": {
          "base_uri": "https://localhost:8080/"
        }
      },
      "execution_count": null,
      "outputs": [
        {
          "output_type": "execute_result",
          "data": {
            "text/plain": [
              "153.93804002589985"
            ]
          },
          "metadata": {},
          "execution_count": 14
        }
      ]
    },
    {
      "cell_type": "markdown",
      "source": [
        "6.Calculate the circumference of a circle with radius 7"
      ],
      "metadata": {
        "id": "hijI42uJTQQ6"
      }
    },
    {
      "cell_type": "code",
      "source": [
        "2*math.pi*7"
      ],
      "metadata": {
        "id": "bl2Aw54MTU9_",
        "outputId": "0f405afa-44fa-4cba-bd93-7b931933215a",
        "colab": {
          "base_uri": "https://localhost:8080/"
        }
      },
      "execution_count": null,
      "outputs": [
        {
          "output_type": "execute_result",
          "data": {
            "text/plain": [
              "43.982297150257104"
            ]
          },
          "metadata": {},
          "execution_count": 15
        }
      ]
    },
    {
      "cell_type": "markdown",
      "source": [
        "7. Find the cube root of 343 using the math.pow() function"
      ],
      "metadata": {
        "id": "G1ceCYkGTVeb"
      }
    },
    {
      "cell_type": "code",
      "source": [
        "math.pow(343, 1/3)"
      ],
      "metadata": {
        "id": "PaOHKiQuTfub",
        "outputId": "e4c76a41-1c3f-4ae9-eb1d-f298169bae55",
        "colab": {
          "base_uri": "https://localhost:8080/"
        }
      },
      "execution_count": null,
      "outputs": [
        {
          "output_type": "execute_result",
          "data": {
            "text/plain": [
              "6.999999999999999"
            ]
          },
          "metadata": {},
          "execution_count": 18
        }
      ]
    },
    {
      "cell_type": "markdown",
      "source": [
        "8. Calculate the floor and ceil of 7.83."
      ],
      "metadata": {
        "id": "MnWyQq3_TgMk"
      }
    },
    {
      "cell_type": "code",
      "source": [
        "floor_value = math.floor(7.83)\n",
        "\n",
        "ceil_value = math.ceil(7.83)\n",
        "print(\"ceil is:\", ceil_value)\n",
        "print(\"floor value is:\", floor_value)\n"
      ],
      "metadata": {
        "id": "_AAHRdk3Toea",
        "outputId": "8da17a30-52d7-40f3-a09e-fbe54461f848",
        "colab": {
          "base_uri": "https://localhost:8080/"
        }
      },
      "execution_count": null,
      "outputs": [
        {
          "output_type": "stream",
          "name": "stdout",
          "text": [
            "ceil is: 8\n",
            "floor value is: 7\n"
          ]
        }
      ]
    },
    {
      "cell_type": "markdown",
      "source": [
        "9. Verify identity of (sin45)^2 + (cos45)^2 is approximately equal to 1"
      ],
      "metadata": {
        "id": "t3-Uyg91To7x"
      }
    },
    {
      "cell_type": "code",
      "source": [
        "math.sin(45)**2 + math.cos(45)**2"
      ],
      "metadata": {
        "id": "TTB2YibnUJU-",
        "outputId": "903e2c92-42f0-4abb-bd2a-b08662f84083",
        "colab": {
          "base_uri": "https://localhost:8080/"
        }
      },
      "execution_count": null,
      "outputs": [
        {
          "output_type": "execute_result",
          "data": {
            "text/plain": [
              "1.0"
            ]
          },
          "metadata": {},
          "execution_count": 41
        }
      ]
    },
    {
      "cell_type": "markdown",
      "source": [
        "10. An object is dropped from a height of 78.4 meters.\n",
        "How long will it take to hit the ground?\n",
        "(Use the formula: t = √2h/g , g = 9.8"
      ],
      "metadata": {
        "id": "0_HbNRXlUJl8"
      }
    },
    {
      "cell_type": "code",
      "source": [
        "math.sqrt(2*78.4) / 9.8\n"
      ],
      "metadata": {
        "id": "zaVO6Fo1UjKl",
        "outputId": "335ac018-73a6-4d0c-bd55-e42d193de005",
        "colab": {
          "base_uri": "https://localhost:8080/"
        }
      },
      "execution_count": null,
      "outputs": [
        {
          "output_type": "execute_result",
          "data": {
            "text/plain": [
              "1.2777531299998797"
            ]
          },
          "metadata": {},
          "execution_count": 46
        }
      ]
    },
    {
      "cell_type": "markdown",
      "source": [
        "11. Area of an Equilateral Triangle\n",
        "Given the side length of an equilateral triangle is 6 units, calculate its area.\n",
        "Use the formula: Area = √(3/4) * (side)^2"
      ],
      "metadata": {
        "id": "lFK6CYF_UjhE"
      }
    },
    {
      "cell_type": "code",
      "source": [
        "side= 6\n",
        "\n",
        "area = math.sqrt(3/4)*math.pow(side,2)\n",
        "\n",
        "print(area)"
      ],
      "metadata": {
        "id": "GSQuQ7UBUvuL",
        "outputId": "1dbcd6e6-d4c5-4ebe-87b1-fc0312c1bcf4",
        "colab": {
          "base_uri": "https://localhost:8080/"
        }
      },
      "execution_count": null,
      "outputs": [
        {
          "output_type": "stream",
          "name": "stdout",
          "text": [
            "31.17691453623979\n"
          ]
        }
      ]
    }
  ]
}