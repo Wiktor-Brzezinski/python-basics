{
  "nbformat": 4,
  "nbformat_minor": 0,
  "metadata": {
    "colab": {
      "provenance": [],
      "include_colab_link": true
    },
    "kernelspec": {
      "name": "python3",
      "display_name": "Python 3"
    },
    "language_info": {
      "name": "python"
    }
  },
  "cells": [
    {
      "cell_type": "markdown",
      "metadata": {
        "id": "view-in-github",
        "colab_type": "text"
      },
      "source": [
        "<a href=\"https://colab.research.google.com/github/Wiktor-Brzezinski/python-basics/blob/main/Fix_Broken_Code_1.ipynb\" target=\"_parent\"><img src=\"https://colab.research.google.com/assets/colab-badge.svg\" alt=\"Open In Colab\"/></a>"
      ]
    },
    {
      "cell_type": "markdown",
      "source": [
        "# FIX BROKEN CODE 1"
      ],
      "metadata": {
        "id": "PC4Ip85Jr7yA"
      }
    },
    {
      "cell_type": "code",
      "execution_count": 1,
      "metadata": {
        "id": "D7ZYNuM0q67R",
        "outputId": "5153d4b3-e5f3-45f0-e1a8-fa4625ead86f",
        "colab": {
          "base_uri": "https://localhost:8080/"
        }
      },
      "outputs": [
        {
          "output_type": "stream",
          "name": "stdout",
          "text": [
            "Hello, world!\n"
          ]
        }
      ],
      "source": [
        "print(\"Hello, world!\")"
      ]
    },
    {
      "cell_type": "markdown",
      "source": [
        "What was the error ?\n",
        "Answer :after world there wasnt a \""
      ],
      "metadata": {
        "id": "XKLet5FEtkXQ"
      }
    },
    {
      "cell_type": "code",
      "source": [
        "my_number = 10\n",
        "print(my_number)"
      ],
      "metadata": {
        "id": "M-s4qDg2sFWz",
        "outputId": "d1a300f4-4545-41a4-8abd-e4049c71812b",
        "colab": {
          "base_uri": "https://localhost:8080/"
        }
      },
      "execution_count": 2,
      "outputs": [
        {
          "output_type": "stream",
          "name": "stdout",
          "text": [
            "10\n"
          ]
        }
      ]
    },
    {
      "cell_type": "markdown",
      "source": [
        "What was the error ?\n",
        "Answer :number was spelt wrong"
      ],
      "metadata": {
        "id": "C0NP6Jd7tpZp"
      }
    },
    {
      "cell_type": "code",
      "source": [
        "def greet():\n",
        "name = input(\"Enter your name: \")\n",
        "    print(\"Hello, \" + name)\n",
        ""
      ],
      "metadata": {
        "id": "iQxoGQ1SsUEA",
        "outputId": "dc71c207-81a0-40da-92b7-9d099f4c7891",
        "colab": {
          "base_uri": "https://localhost:8080/"
        }
      },
      "execution_count": 110,
      "outputs": [
        {
          "output_type": "stream",
          "name": "stdout",
          "text": [
            "('hello', {'Alice'})\n"
          ]
        }
      ]
    },
    {
      "cell_type": "markdown",
      "source": [
        "What was the error ?\n",
        "Answer :"
      ],
      "metadata": {
        "id": "Ap3NxpT5trax"
      }
    },
    {
      "cell_type": "code",
      "source": [
        "age = input(\"Enter your age: \")\n",
        "\n",
        "  print(\"Next year, you will be \" + (age + 1))"
      ],
      "metadata": {
        "id": "D0fxS0w4sfz2",
        "outputId": "5478489a-6d47-4075-9db2-b6ef08c7b985",
        "colab": {
          "base_uri": "https://localhost:8080/",
          "height": 110
        }
      },
      "execution_count": 114,
      "outputs": [
        {
          "output_type": "error",
          "ename": "IndentationError",
          "evalue": "unexpected indent (<ipython-input-114-8fd138756fde>, line 3)",
          "traceback": [
            "\u001b[0;36m  File \u001b[0;32m\"<ipython-input-114-8fd138756fde>\"\u001b[0;36m, line \u001b[0;32m3\u001b[0m\n\u001b[0;31m    print(\"Next year, you will be \" + (age + 1))\u001b[0m\n\u001b[0m    ^\u001b[0m\n\u001b[0;31mIndentationError\u001b[0m\u001b[0;31m:\u001b[0m unexpected indent\n"
          ]
        }
      ]
    },
    {
      "cell_type": "markdown",
      "source": [
        "What was the error ?\n",
        "Answer :there wasnt a result to print so i added one"
      ],
      "metadata": {
        "id": "B7dY9waHtspn"
      }
    },
    {
      "cell_type": "code",
      "source": [
        "def add_numbers(a, b):\n",
        "    return a + b\n",
        "\n",
        "result = add_numbers(3, 5)\n",
        "print(result)\n"
      ],
      "metadata": {
        "id": "cr4Di-Moshxa",
        "outputId": "71007a16-99fa-40a2-aec2-a7a4a33c9f36",
        "colab": {
          "base_uri": "https://localhost:8080/"
        }
      },
      "execution_count": 89,
      "outputs": [
        {
          "output_type": "stream",
          "name": "stdout",
          "text": [
            "8\n"
          ]
        }
      ]
    },
    {
      "cell_type": "markdown",
      "source": [
        "What was the error ?\n",
        "Answer :"
      ],
      "metadata": {
        "id": "Voaq60z9ttJW"
      }
    },
    {
      "cell_type": "code",
      "source": [
        "def multiply(x, y):\n",
        "    return x * y\n",
        "\n",
        "\n",
        "result = multiply(3, 4)\n",
        "print(result)\n",
        ""
      ],
      "metadata": {
        "id": "v_sucHpespLK",
        "outputId": "63756dbc-6bd3-4d23-e401-fb7d7c8c5f00",
        "colab": {
          "base_uri": "https://localhost:8080/"
        }
      },
      "execution_count": 78,
      "outputs": [
        {
          "output_type": "stream",
          "name": "stdout",
          "text": [
            "12\n"
          ]
        }
      ]
    },
    {
      "cell_type": "markdown",
      "source": [
        "What was the error ?\n",
        "Answer :i added brackets around the i so the print would work"
      ],
      "metadata": {
        "id": "s-UtRPw3tt_j"
      }
    },
    {
      "cell_type": "code",
      "source": [
        "numbers = [1, 2, 3, 4, 5]\n",
        "for i in numbers:\n",
        "  print(i)"
      ],
      "metadata": {
        "id": "m6f6EW7Ts3zQ",
        "outputId": "ddcf17fe-f94d-4bd6-9bc1-63fcac802a49",
        "colab": {
          "base_uri": "https://localhost:8080/"
        }
      },
      "execution_count": 38,
      "outputs": [
        {
          "output_type": "stream",
          "name": "stdout",
          "text": [
            "1\n",
            "2\n",
            "3\n",
            "4\n",
            "5\n"
          ]
        }
      ]
    },
    {
      "cell_type": "markdown",
      "source": [
        "What was the error ?\n",
        "Answer :i took away the one from student to make sure it matched"
      ],
      "metadata": {
        "id": "tRA2Cwpbtufn"
      }
    },
    {
      "cell_type": "code",
      "source": [
        "student = {\"name\": \"Alex\", \"age\": 21}\n",
        "print(student[\"name\"])"
      ],
      "metadata": {
        "id": "x84ylEg4s-GH",
        "outputId": "2615c12e-e954-4df2-a7fd-b801a713650c",
        "colab": {
          "base_uri": "https://localhost:8080/"
        }
      },
      "execution_count": 35,
      "outputs": [
        {
          "output_type": "stream",
          "name": "stdout",
          "text": [
            "Alex\n"
          ]
        }
      ]
    },
    {
      "cell_type": "markdown",
      "source": [
        "What was the error ?\n",
        "Answer :i added another = because there was only one"
      ],
      "metadata": {
        "id": "K0Ofjlvbtu6s"
      }
    },
    {
      "cell_type": "code",
      "source": [
        "def check_even(n):\n",
        "    if n % 2 == 0:\n",
        "        print(\"Even\")\n",
        "    else:\n",
        "        print(\"Odd\")\n",
        "\n",
        "check_even(4)\n"
      ],
      "metadata": {
        "id": "XmSSi4yhtH5M",
        "outputId": "f6ab3850-7c57-4cb6-d428-71fefa893fb9",
        "colab": {
          "base_uri": "https://localhost:8080/"
        }
      },
      "execution_count": 29,
      "outputs": [
        {
          "output_type": "stream",
          "name": "stdout",
          "text": [
            "Even\n"
          ]
        }
      ]
    },
    {
      "cell_type": "markdown",
      "source": [
        "What was the error ?\n",
        "Answer :"
      ],
      "metadata": {
        "id": "o6oubHCztvi-"
      }
    }
  ]
}